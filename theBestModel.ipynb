{
 "cells": [
  {
   "cell_type": "code",
   "execution_count": 17,
   "id": "537e383a",
   "metadata": {},
   "outputs": [
    {
     "data": {
      "text/html": [
       "<table class=\"simpletable\">\n",
       "<caption>OLS Regression Results</caption>\n",
       "<tr>\n",
       "  <th>Dep. Variable:</th>         <td>poverty</td>     <th>  R-squared:         </th> <td>   0.641</td>\n",
       "</tr>\n",
       "<tr>\n",
       "  <th>Model:</th>                   <td>OLS</td>       <th>  Adj. R-squared:    </th> <td>   0.618</td>\n",
       "</tr>\n",
       "<tr>\n",
       "  <th>Method:</th>             <td>Least Squares</td>  <th>  F-statistic:       </th> <td>   28.00</td>\n",
       "</tr>\n",
       "<tr>\n",
       "  <th>Date:</th>             <td>Fri, 03 Dec 2021</td> <th>  Prob (F-statistic):</th> <td>1.55e-10</td>\n",
       "</tr>\n",
       "<tr>\n",
       "  <th>Time:</th>                 <td>00:42:39</td>     <th>  Log-Likelihood:    </th> <td> -103.41</td>\n",
       "</tr>\n",
       "<tr>\n",
       "  <th>No. Observations:</th>      <td>    51</td>      <th>  AIC:               </th> <td>   214.8</td>\n",
       "</tr>\n",
       "<tr>\n",
       "  <th>Df Residuals:</th>          <td>    47</td>      <th>  BIC:               </th> <td>   222.5</td>\n",
       "</tr>\n",
       "<tr>\n",
       "  <th>Df Model:</th>              <td>     3</td>      <th>                     </th>     <td> </td>   \n",
       "</tr>\n",
       "<tr>\n",
       "  <th>Covariance Type:</th>      <td>nonrobust</td>    <th>                     </th>     <td> </td>   \n",
       "</tr>\n",
       "</table>\n",
       "<table class=\"simpletable\">\n",
       "<tr>\n",
       "      <td></td>         <th>coef</th>     <th>std err</th>      <th>t</th>      <th>P>|t|</th>  <th>[0.025</th>    <th>0.975]</th>  \n",
       "</tr>\n",
       "<tr>\n",
       "  <th>Intercept</th> <td>   68.7220</td> <td>    6.389</td> <td>   10.756</td> <td> 0.000</td> <td>   55.869</td> <td>   81.575</td>\n",
       "</tr>\n",
       "<tr>\n",
       "  <th>metro_res</th> <td>   -0.0555</td> <td>    0.019</td> <td>   -2.926</td> <td> 0.005</td> <td>   -0.094</td> <td>   -0.017</td>\n",
       "</tr>\n",
       "<tr>\n",
       "  <th>white</th>     <td>   -0.0533</td> <td>    0.021</td> <td>   -2.483</td> <td> 0.017</td> <td>   -0.097</td> <td>   -0.010</td>\n",
       "</tr>\n",
       "<tr>\n",
       "  <th>hs_grad</th>   <td>   -0.5697</td> <td>    0.075</td> <td>   -7.569</td> <td> 0.000</td> <td>   -0.721</td> <td>   -0.418</td>\n",
       "</tr>\n",
       "</table>\n",
       "<table class=\"simpletable\">\n",
       "<tr>\n",
       "  <th>Omnibus:</th>       <td> 3.479</td> <th>  Durbin-Watson:     </th> <td>   1.900</td>\n",
       "</tr>\n",
       "<tr>\n",
       "  <th>Prob(Omnibus):</th> <td> 0.176</td> <th>  Jarque-Bera (JB):  </th> <td>   3.230</td>\n",
       "</tr>\n",
       "<tr>\n",
       "  <th>Skew:</th>          <td> 0.607</td> <th>  Prob(JB):          </th> <td>   0.199</td>\n",
       "</tr>\n",
       "<tr>\n",
       "  <th>Kurtosis:</th>      <td> 2.787</td> <th>  Cond. No.          </th> <td>3.32e+03</td>\n",
       "</tr>\n",
       "</table><br/><br/>Notes:<br/>[1] Standard Errors assume that the covariance matrix of the errors is correctly specified.<br/>[2] The condition number is large, 3.32e+03. This might indicate that there are<br/>strong multicollinearity or other numerical problems."
      ],
      "text/plain": [
       "<class 'statsmodels.iolib.summary.Summary'>\n",
       "\"\"\"\n",
       "                            OLS Regression Results                            \n",
       "==============================================================================\n",
       "Dep. Variable:                poverty   R-squared:                       0.641\n",
       "Model:                            OLS   Adj. R-squared:                  0.618\n",
       "Method:                 Least Squares   F-statistic:                     28.00\n",
       "Date:                Fri, 03 Dec 2021   Prob (F-statistic):           1.55e-10\n",
       "Time:                        00:42:39   Log-Likelihood:                -103.41\n",
       "No. Observations:                  51   AIC:                             214.8\n",
       "Df Residuals:                      47   BIC:                             222.5\n",
       "Df Model:                           3                                         \n",
       "Covariance Type:            nonrobust                                         \n",
       "==============================================================================\n",
       "                 coef    std err          t      P>|t|      [0.025      0.975]\n",
       "------------------------------------------------------------------------------\n",
       "Intercept     68.7220      6.389     10.756      0.000      55.869      81.575\n",
       "metro_res     -0.0555      0.019     -2.926      0.005      -0.094      -0.017\n",
       "white         -0.0533      0.021     -2.483      0.017      -0.097      -0.010\n",
       "hs_grad       -0.5697      0.075     -7.569      0.000      -0.721      -0.418\n",
       "==============================================================================\n",
       "Omnibus:                        3.479   Durbin-Watson:                   1.900\n",
       "Prob(Omnibus):                  0.176   Jarque-Bera (JB):                3.230\n",
       "Skew:                           0.607   Prob(JB):                        0.199\n",
       "Kurtosis:                       2.787   Cond. No.                     3.32e+03\n",
       "==============================================================================\n",
       "\n",
       "Notes:\n",
       "[1] Standard Errors assume that the covariance matrix of the errors is correctly specified.\n",
       "[2] The condition number is large, 3.32e+03. This might indicate that there are\n",
       "strong multicollinearity or other numerical problems.\n",
       "\"\"\""
      ]
     },
     "execution_count": 17,
     "metadata": {},
     "output_type": "execute_result"
    }
   ],
   "source": [
    "import pandas as pd\n",
    "import statsmodels.formula.api as smf\n",
    "\n",
    "\n",
    "link = r'http://d396qusza40orc.cloudfront.net/statistics/lec_resources/states.csv'\n",
    "df = pd.read_csv(link)\n",
    "model = smf.ols(formula='poverty ~ metro_res + white + hs_grad', data=df)\n",
    "result = model.fit()\n",
    "summ = result.summary()\n",
    "summ"
   ]
  },
  {
   "cell_type": "code",
   "execution_count": 18,
   "id": "5d33ecb7",
   "metadata": {},
   "outputs": [
    {
     "name": "stdout",
     "output_type": "stream",
     "text": [
      "lillieforsResult (0.11209113348529609, 0.11529199995159317)\n",
      "ShapiroResult(statistic=0.9557526111602783, pvalue=0.05502479895949364)\n"
     ]
    },
    {
     "data": {
      "image/png": "[encoded data removed]",
      "text/plain": [
       "<Figure size 432x288 with 1 Axes>"
      ]
     },
     "metadata": {
      "needs_background": "light"
     },
     "output_type": "display_data"
    },
    {
     "data": {
      "image/png": "[encoded data removed]",
      "text/plain": [
       "<Figure size 432x288 with 1 Axes>"
      ]
     },
     "metadata": {
      "needs_background": "light"
     },
     "output_type": "display_data"
    }
   ],
   "source": [
    "import statsmodels.api as sm\n",
    "from statsmodels.stats.diagnostic import lilliefors\n",
    "from scipy.stats import shapiro\n",
    "from matplotlib import pyplot as plt\n",
    "\n",
    "\n",
    "y = df['poverty']\n",
    "X1 = df['metro_res']\n",
    "X2 = df['white']\n",
    "X3 = df['hs_grad']\n",
    "residuals = y - (68.7 - 0.05 * X1 - 0.05 * X2 -0.57 * X3)\n",
    "\n",
    "fig, ax = plt.subplots()\n",
    "fig.suptitle('Анализ остатков')\n",
    "ax.set_ylabel('Остатки')\n",
    "ax.set_xlabel('Предсказанные значения')\n",
    "ax.scatter([i for i in range(51)], residuals)\n",
    "ax.plot([i for i in range(51)], [0 for i in range(51)], color='r')\n",
    "\n",
    "res = result.resid\n",
    "fig2 = sm.qqplot(res, fit=True, line=\"45\")\n",
    "fig2.suptitle(\"Normal Q-Q plot\")\n",
    "\n",
    "print('lillieforsResult', lilliefors(res))\n",
    "print(shapiro(res))"
   ]
  },
  {
   "cell_type": "code",
   "execution_count": 19,
   "id": "7e7523ef",
   "metadata": {},
   "outputs": [
    {
     "data": {
      "text/plain": [
       "0    -1.722346\n",
       "1    -1.386533\n",
       "2     1.895589\n",
       "3     2.603608\n",
       "4    -0.342305\n",
       "5     0.715088\n",
       "6    -1.646849\n",
       "7    -1.570498\n",
       "8     4.557916\n",
       "9     0.890804\n",
       "10   -0.562805\n",
       "11   -1.239063\n",
       "12    2.107732\n",
       "13    0.532516\n",
       "14   -2.125390\n",
       "15   -0.863996\n",
       "16   -0.117346\n",
       "17   -0.534719\n",
       "18    1.197208\n",
       "19   -0.673439\n",
       "20   -3.234603\n",
       "21    0.226718\n",
       "22   -0.019767\n",
       "23   -1.287945\n",
       "24    1.113182\n",
       "25   -0.412636\n",
       "26    4.161862\n",
       "27    1.296512\n",
       "28   -2.087629\n",
       "29   -2.221957\n",
       "30   -2.447376\n",
       "31    4.316831\n",
       "32    2.032695\n",
       "33   -1.951891\n",
       "34    2.319253\n",
       "35   -0.089745\n",
       "36    2.610443\n",
       "37    1.199495\n",
       "38   -1.636747\n",
       "39   -2.469713\n",
       "40   -2.218359\n",
       "41   -0.369909\n",
       "42   -0.533681\n",
       "43   -0.399765\n",
       "44    1.400675\n",
       "45   -0.884802\n",
       "46   -2.005512\n",
       "47    1.953511\n",
       "48   -0.258611\n",
       "49   -1.046834\n",
       "50    1.231135\n",
       "dtype: float64"
      ]
     },
     "execution_count": 19,
     "metadata": {},
     "output_type": "execute_result"
    }
   ],
   "source": [
    "res"
   ]
  },
  {
   "cell_type": "code",
   "execution_count": null,
   "id": "5f1b237e",
   "metadata": {},
   "outputs": [],
   "source": []
  }
 ],
 "metadata": {
  "kernelspec": {
   "display_name": "Python 3 (ipykernel)",
   "language": "python",
   "name": "python3"
  },
  "language_info": {
   "codemirror_mode": {
    "name": "ipython",
    "version": 3
   },
   "file_extension": ".py",
   "mimetype": "text/x-python",
   "name": "python",
   "nbconvert_exporter": "python",
   "pygments_lexer": "ipython3",
   "version": "3.8.10"
  }
 },
 "nbformat": 4,
 "nbformat_minor": 5
}
