{
 "cells": [
  {
   "cell_type": "code",
   "execution_count": 12,
   "id": "77ea6e97",
   "metadata": {},
   "outputs": [
    {
     "data": {
      "text/html": [
       "<table class=\"simpletable\">\n",
       "<caption>OLS Regression Results</caption>\n",
       "<tr>\n",
       "  <th>Dep. Variable:</th>         <td>poverty</td>     <th>  R-squared:         </th> <td>   0.558</td>\n",
       "</tr>\n",
       "<tr>\n",
       "  <th>Model:</th>                   <td>OLS</td>       <th>  Adj. R-squared:    </th> <td>   0.549</td>\n",
       "</tr>\n",
       "<tr>\n",
       "  <th>Method:</th>             <td>Least Squares</td>  <th>  F-statistic:       </th> <td>   61.81</td>\n",
       "</tr>\n",
       "<tr>\n",
       "  <th>Date:</th>             <td>Sun, 28 Nov 2021</td> <th>  Prob (F-statistic):</th> <td>3.11e-10</td>\n",
       "</tr>\n",
       "<tr>\n",
       "  <th>Time:</th>                 <td>22:10:53</td>     <th>  Log-Likelihood:    </th> <td> -108.74</td>\n",
       "</tr>\n",
       "<tr>\n",
       "  <th>No. Observations:</th>      <td>    51</td>      <th>  AIC:               </th> <td>   221.5</td>\n",
       "</tr>\n",
       "<tr>\n",
       "  <th>Df Residuals:</th>          <td>    49</td>      <th>  BIC:               </th> <td>   225.3</td>\n",
       "</tr>\n",
       "<tr>\n",
       "  <th>Df Model:</th>              <td>     1</td>      <th>                     </th>     <td> </td>   \n",
       "</tr>\n",
       "<tr>\n",
       "  <th>Covariance Type:</th>      <td>nonrobust</td>    <th>                     </th>     <td> </td>   \n",
       "</tr>\n",
       "</table>\n",
       "<table class=\"simpletable\">\n",
       "<tr>\n",
       "      <td></td>         <th>coef</th>     <th>std err</th>      <th>t</th>      <th>P>|t|</th>  <th>[0.025</th>    <th>0.975]</th>  \n",
       "</tr>\n",
       "<tr>\n",
       "  <th>Intercept</th> <td>   64.7810</td> <td>    6.803</td> <td>    9.523</td> <td> 0.000</td> <td>   51.111</td> <td>   78.451</td>\n",
       "</tr>\n",
       "<tr>\n",
       "  <th>hs_grad</th>   <td>   -0.6212</td> <td>    0.079</td> <td>   -7.862</td> <td> 0.000</td> <td>   -0.780</td> <td>   -0.462</td>\n",
       "</tr>\n",
       "</table>\n",
       "<table class=\"simpletable\">\n",
       "<tr>\n",
       "  <th>Omnibus:</th>       <td> 3.534</td> <th>  Durbin-Watson:     </th> <td>   1.977</td>\n",
       "</tr>\n",
       "<tr>\n",
       "  <th>Prob(Omnibus):</th> <td> 0.171</td> <th>  Jarque-Bera (JB):  </th> <td>   2.653</td>\n",
       "</tr>\n",
       "<tr>\n",
       "  <th>Skew:</th>          <td> 0.540</td> <th>  Prob(JB):          </th> <td>   0.265</td>\n",
       "</tr>\n",
       "<tr>\n",
       "  <th>Kurtosis:</th>      <td> 3.289</td> <th>  Cond. No.          </th> <td>2.01e+03</td>\n",
       "</tr>\n",
       "</table><br/><br/>Notes:<br/>[1] Standard Errors assume that the covariance matrix of the errors is correctly specified.<br/>[2] The condition number is large, 2.01e+03. This might indicate that there are<br/>strong multicollinearity or other numerical problems."
      ],
      "text/plain": [
       "<class 'statsmodels.iolib.summary.Summary'>\n",
       "\"\"\"\n",
       "                            OLS Regression Results                            \n",
       "==============================================================================\n",
       "Dep. Variable:                poverty   R-squared:                       0.558\n",
       "Model:                            OLS   Adj. R-squared:                  0.549\n",
       "Method:                 Least Squares   F-statistic:                     61.81\n",
       "Date:                Sun, 28 Nov 2021   Prob (F-statistic):           3.11e-10\n",
       "Time:                        22:10:53   Log-Likelihood:                -108.74\n",
       "No. Observations:                  51   AIC:                             221.5\n",
       "Df Residuals:                      49   BIC:                             225.3\n",
       "Df Model:                           1                                         \n",
       "Covariance Type:            nonrobust                                         \n",
       "==============================================================================\n",
       "                 coef    std err          t      P>|t|      [0.025      0.975]\n",
       "------------------------------------------------------------------------------\n",
       "Intercept     64.7810      6.803      9.523      0.000      51.111      78.451\n",
       "hs_grad       -0.6212      0.079     -7.862      0.000      -0.780      -0.462\n",
       "==============================================================================\n",
       "Omnibus:                        3.534   Durbin-Watson:                   1.977\n",
       "Prob(Omnibus):                  0.171   Jarque-Bera (JB):                2.653\n",
       "Skew:                           0.540   Prob(JB):                        0.265\n",
       "Kurtosis:                       3.289   Cond. No.                     2.01e+03\n",
       "==============================================================================\n",
       "\n",
       "Notes:\n",
       "[1] Standard Errors assume that the covariance matrix of the errors is correctly specified.\n",
       "[2] The condition number is large, 2.01e+03. This might indicate that there are\n",
       "strong multicollinearity or other numerical problems.\n",
       "\"\"\""
      ]
     },
     "execution_count": 12,
     "metadata": {},
     "output_type": "execute_result"
    }
   ],
   "source": [
    "import pandas as pd\n",
    "import statsmodels.formula.api as smf\n",
    "\n",
    "\n",
    "link = r'http://d396qusza40orc.cloudfront.net/statistics/lec_resources/states.csv'\n",
    "df = pd.read_csv(link)\n",
    "\n",
    "\n",
    "model = smf.ols(formula='poverty ~ hs_grad', data=df)\n",
    "result = model.fit()\n",
    "summ = result.summary()\n",
    "summ"
   ]
  },
  {
   "cell_type": "code",
   "execution_count": 13,
   "id": "6490ae37",
   "metadata": {},
   "outputs": [
    {
     "data": {
      "text/plain": [
       "<matplotlib.collections.PathCollection at 0x1371025f580>"
      ]
     },
     "execution_count": 13,
     "metadata": {},
     "output_type": "execute_result"
    },
    {
     "data": {
      "image/png": "[encoded data removed]",
      "text/plain": [
       "<Figure size 432x288 with 1 Axes>"
      ]
     },
     "metadata": {
      "needs_background": "light"
     },
     "output_type": "display_data"
    }
   ],
   "source": [
    "from matplotlib.pyplot import scatter\n",
    "from matplotlib import pyplot as plt\n",
    "import numpy as np\n",
    "\n",
    "\n",
    "y = df['poverty']\n",
    "X = df['hs_grad']\n",
    "b1, b0 = np.polyfit(X, y, 1)\n",
    "\n",
    "fig, ax = plt.subplots()\n",
    "ax.plot(X, b0 + b1*X, color='red')\n",
    "fig.suptitle('Связь бедности и уровня образования')\n",
    "ax.set_ylabel('Бедность (%)')\n",
    "ax.set_xlabel('Среднее образование (%)')\n",
    "ax.scatter(X, y)"
   ]
  },
  {
   "cell_type": "code",
   "execution_count": 14,
   "id": "c9603cca",
   "metadata": {},
   "outputs": [
    {
     "name": "stdout",
     "output_type": "stream",
     "text": [
      "Statistic N mean std min max\n",
      "poverty 51 11.3 3.1 5.6 18.0\n",
      "hs_grad 51 86.0 3.7 77.2 92.1\n"
     ]
    }
   ],
   "source": [
    "print('Statistic', 'N', 'mean', 'std', 'min', 'max')\n",
    "print('poverty', len(y), round(y.mean(), 1), round(y.std(), 1), np.min(y), np.max(y))\n",
    "print('hs_grad', len(X), round(X.mean(), 1), round(X.std(), 1), np.min(X), np.max(X))"
   ]
  },
  {
   "cell_type": "code",
   "execution_count": 15,
   "id": "c8600fad",
   "metadata": {},
   "outputs": [
    {
     "name": "stdout",
     "output_type": "stream",
     "text": [
      "lillieforsResult (0.11523985402607873, 0.09082373008889003)\n",
      "ShapiroResult(statistic=0.9680377244949341, pvalue=0.1831192970275879)\n"
     ]
    },
    {
     "data": {
      "image/png": "[encoded data removed]",
      "text/plain": [
       "<Figure size 432x288 with 1 Axes>"
      ]
     },
     "metadata": {
      "needs_background": "light"
     },
     "output_type": "display_data"
    },
    {
     "data": {
      "image/png": "[encoded data removed]",
      "text/plain": [
       "<Figure size 432x288 with 1 Axes>"
      ]
     },
     "metadata": {
      "needs_background": "light"
     },
     "output_type": "display_data"
    }
   ],
   "source": [
    "# Q-Q plot for residuals + test SW and Lilliefors\n",
    "import statsmodels.api as sm\n",
    "from statsmodels.stats.diagnostic import lilliefors\n",
    "from scipy.stats import shapiro\n",
    "\n",
    "res = result.resid\n",
    "residuals = y - (b1 * X + b0)\n",
    "\n",
    "fig, ax = plt.subplots()\n",
    "ax.plot(X, [0 for i in range(len(X))], color='red')\n",
    "fig.suptitle('Анализ остатков')\n",
    "ax.set_ylabel('Остаток')\n",
    "ax.set_xlabel('Среднее образование (%)')\n",
    "ax.scatter(X, residuals)\n",
    "\n",
    "res = result.resid\n",
    "fig2 = sm.qqplot(res, fit=True, line=\"45\")\n",
    "\n",
    "print('lillieforsResult', lilliefors(residuals))\n",
    "print(shapiro(residuals))"
   ]
  },
  {
   "cell_type": "code",
   "execution_count": null,
   "id": "189540f0",
   "metadata": {},
   "outputs": [],
   "source": []
  }
 ],
 "metadata": {
  "kernelspec": {
   "display_name": "Python 3 (ipykernel)",
   "language": "python",
   "name": "python3"
  },
  "language_info": {
   "codemirror_mode": {
    "name": "ipython",
    "version": 3
   },
   "file_extension": ".py",
   "mimetype": "text/x-python",
   "name": "python",
   "nbconvert_exporter": "python",
   "pygments_lexer": "ipython3",
   "version": "3.8.10"
  }
 },
 "nbformat": 4,
 "nbformat_minor": 5
}
